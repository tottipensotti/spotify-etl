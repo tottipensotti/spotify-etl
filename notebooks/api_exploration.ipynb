{
 "cells": [
  {
   "cell_type": "code",
   "execution_count": 1,
   "metadata": {},
   "outputs": [],
   "source": [
    "import pandas as pd\n",
    "import os\n",
    "from dotenv import load_dotenv"
   ]
  },
  {
   "cell_type": "code",
   "execution_count": 2,
   "metadata": {},
   "outputs": [],
   "source": [
    "load_dotenv()\n",
    "folder_directory = os.getenv(\"FOLDER_DIRECTORY\")"
   ]
  },
  {
   "cell_type": "code",
<<<<<<< HEAD
   "execution_count": 3,
=======
   "execution_count": 13,
>>>>>>> 418e3ba0cac4ef36a3eb80396c08662eebd27c57
   "metadata": {},
   "outputs": [],
   "source": [
    "%%capture\n",
    "%cd $folder_directory\n",
    "%run src\\utils\\helper_functions.py\n",
    "%run src\\etl\\extract\\spotify_api.py"
   ]
  },
  {
   "cell_type": "code",
   "execution_count": 4,
   "metadata": {},
   "outputs": [],
   "source": [
    "access_token = getAccessToken()\n",
    "songs = getRecentlyPlayedTracks(access_token)"
   ]
  },
  {
   "cell_type": "code",
   "execution_count": 5,
   "metadata": {},
   "outputs": [
    {
     "data": {
      "text/plain": [
       "dict_keys(['items', 'next', 'cursors', 'limit', 'href'])"
      ]
     },
     "execution_count": 5,
     "metadata": {},
     "output_type": "execute_result"
    }
   ],
   "source": [
    "songs.keys()"
   ]
  },
  {
   "cell_type": "code",
   "execution_count": 129,
   "metadata": {},
   "outputs": [
    {
     "data": {
      "text/plain": [
       "'2001-07-25'"
      ]
     },
     "execution_count": 129,
     "metadata": {},
     "output_type": "execute_result"
    }
   ],
   "source": [
    "songs['items'][0]['track']['album']['release_date']"
   ]
  },
  {
   "cell_type": "code",
   "execution_count": 133,
   "metadata": {},
   "outputs": [],
   "source": [
    "tracks = []\n",
    "columns=['id','name', 'artist_id', 'album_type', 'release_date',\n",
    "'total_tracks', 'available_markets','disc_number']\n",
    "\n",
    "def getArtists(i):\n",
    "    if len(songs['items'][i]['track']['album']['artists'])>1:\n",
    "        artist = []\n",
    "        for a in range(0,len(songs['items'][i]['track']['album']['artists'])):\n",
    "            artist.append(songs['items'][i]['track']['album']['artists'][a]['name'])\n",
    "            return artist\n",
    "    else:\n",
    "        return songs['items'][i]['track']['album']['artists'][a]['name']"
   ]
  },
  {
   "cell_type": "code",
   "execution_count": 134,
   "metadata": {},
   "outputs": [
    {
     "ename": "UnboundLocalError",
     "evalue": "local variable 'a' referenced before assignment",
     "output_type": "error",
     "traceback": [
      "\u001b[1;31m---------------------------------------------------------------------------\u001b[0m",
      "\u001b[1;31mUnboundLocalError\u001b[0m                         Traceback (most recent call last)",
      "\u001b[1;32m~\\AppData\\Local\\Temp\\ipykernel_6112\\2484995164.py\u001b[0m in \u001b[0;36m<module>\u001b[1;34m\u001b[0m\n\u001b[0;32m      3\u001b[0m             \u001b[0msongs\u001b[0m\u001b[1;33m[\u001b[0m\u001b[1;34m'items'\u001b[0m\u001b[1;33m]\u001b[0m\u001b[1;33m[\u001b[0m\u001b[0mi\u001b[0m\u001b[1;33m]\u001b[0m\u001b[1;33m[\u001b[0m\u001b[1;34m'track'\u001b[0m\u001b[1;33m]\u001b[0m\u001b[1;33m[\u001b[0m\u001b[1;34m'album'\u001b[0m\u001b[1;33m]\u001b[0m\u001b[1;33m[\u001b[0m\u001b[1;34m'id'\u001b[0m\u001b[1;33m]\u001b[0m\u001b[1;33m,\u001b[0m\u001b[1;33m\u001b[0m\u001b[1;33m\u001b[0m\u001b[0m\n\u001b[0;32m      4\u001b[0m             \u001b[0msongs\u001b[0m\u001b[1;33m[\u001b[0m\u001b[1;34m'items'\u001b[0m\u001b[1;33m]\u001b[0m\u001b[1;33m[\u001b[0m\u001b[0mi\u001b[0m\u001b[1;33m]\u001b[0m\u001b[1;33m[\u001b[0m\u001b[1;34m'track'\u001b[0m\u001b[1;33m]\u001b[0m\u001b[1;33m[\u001b[0m\u001b[1;34m'album'\u001b[0m\u001b[1;33m]\u001b[0m\u001b[1;33m[\u001b[0m\u001b[1;34m'name'\u001b[0m\u001b[1;33m]\u001b[0m\u001b[1;33m,\u001b[0m\u001b[1;33m\u001b[0m\u001b[1;33m\u001b[0m\u001b[0m\n\u001b[1;32m----> 5\u001b[1;33m             \u001b[0mgetArtists\u001b[0m\u001b[1;33m(\u001b[0m\u001b[1;33m)\u001b[0m\u001b[1;33m,\u001b[0m\u001b[1;33m\u001b[0m\u001b[1;33m\u001b[0m\u001b[0m\n\u001b[0m\u001b[0;32m      6\u001b[0m             \u001b[0msongs\u001b[0m\u001b[1;33m[\u001b[0m\u001b[1;34m'items'\u001b[0m\u001b[1;33m]\u001b[0m\u001b[1;33m[\u001b[0m\u001b[0mi\u001b[0m\u001b[1;33m]\u001b[0m\u001b[1;33m[\u001b[0m\u001b[1;34m'track'\u001b[0m\u001b[1;33m]\u001b[0m\u001b[1;33m[\u001b[0m\u001b[1;34m'album'\u001b[0m\u001b[1;33m]\u001b[0m\u001b[1;33m[\u001b[0m\u001b[1;34m'album_type'\u001b[0m\u001b[1;33m]\u001b[0m\u001b[1;33m,\u001b[0m\u001b[1;33m\u001b[0m\u001b[1;33m\u001b[0m\u001b[0m\n\u001b[0;32m      7\u001b[0m             \u001b[0msongs\u001b[0m\u001b[1;33m[\u001b[0m\u001b[1;34m'items'\u001b[0m\u001b[1;33m]\u001b[0m\u001b[1;33m[\u001b[0m\u001b[0mi\u001b[0m\u001b[1;33m]\u001b[0m\u001b[1;33m[\u001b[0m\u001b[1;34m'track'\u001b[0m\u001b[1;33m]\u001b[0m\u001b[1;33m[\u001b[0m\u001b[1;34m'album'\u001b[0m\u001b[1;33m]\u001b[0m\u001b[1;33m[\u001b[0m\u001b[1;34m'release_date'\u001b[0m\u001b[1;33m]\u001b[0m\u001b[1;33m,\u001b[0m\u001b[1;33m\u001b[0m\u001b[1;33m\u001b[0m\u001b[0m\n",
      "\u001b[1;32m~\\AppData\\Local\\Temp\\ipykernel_6112\\2994455752.py\u001b[0m in \u001b[0;36mgetArtists\u001b[1;34m()\u001b[0m\n\u001b[0;32m     10\u001b[0m             \u001b[1;32mreturn\u001b[0m \u001b[0martist\u001b[0m\u001b[1;33m\u001b[0m\u001b[1;33m\u001b[0m\u001b[0m\n\u001b[0;32m     11\u001b[0m     \u001b[1;32melse\u001b[0m\u001b[1;33m:\u001b[0m\u001b[1;33m\u001b[0m\u001b[1;33m\u001b[0m\u001b[0m\n\u001b[1;32m---> 12\u001b[1;33m         \u001b[1;32mreturn\u001b[0m \u001b[0msongs\u001b[0m\u001b[1;33m[\u001b[0m\u001b[1;34m'items'\u001b[0m\u001b[1;33m]\u001b[0m\u001b[1;33m[\u001b[0m\u001b[0mi\u001b[0m\u001b[1;33m]\u001b[0m\u001b[1;33m[\u001b[0m\u001b[1;34m'track'\u001b[0m\u001b[1;33m]\u001b[0m\u001b[1;33m[\u001b[0m\u001b[1;34m'album'\u001b[0m\u001b[1;33m]\u001b[0m\u001b[1;33m[\u001b[0m\u001b[1;34m'artists'\u001b[0m\u001b[1;33m]\u001b[0m\u001b[1;33m[\u001b[0m\u001b[0ma\u001b[0m\u001b[1;33m]\u001b[0m\u001b[1;33m[\u001b[0m\u001b[1;34m'name'\u001b[0m\u001b[1;33m]\u001b[0m\u001b[1;33m\u001b[0m\u001b[1;33m\u001b[0m\u001b[0m\n\u001b[0m",
      "\u001b[1;31mUnboundLocalError\u001b[0m: local variable 'a' referenced before assignment"
     ]
    }
   ],
   "source": [
    "for i in range(0,len(songs['items'])):\n",
    "        tracks.append([\n",
    "            songs['items'][i]['track']['album']['id'],\n",
    "            songs['items'][i]['track']['album']['name'],\n",
    "            getArtists(),\n",
    "            songs['items'][i]['track']['album']['album_type'],\n",
    "            songs['items'][i]['track']['album']['release_date'],\n",
    "            songs['items'][i]['track']['album']['total_tracks'],\n",
    "            ', '.join(songs['items'][i]['track']['available_markets']),\n",
    "            songs['items'][i]['track']['album']['disc_number']\n",
    "        ])\n",
    "        dm_track = pd.DataFrame(tracks, columns=columns)\n",
    "        print('Successfuly transformed tracks data')\n",
    "        print(dm_track)"
   ]
  },
  {
   "cell_type": "code",
   "execution_count": 127,
   "metadata": {},
   "outputs": [
    {
     "name": "stdout",
     "output_type": "stream",
     "text": [
      "Babasónicos\n",
      "Babasónicos\n",
      "La Renga\n",
      "Viejas Locas\n",
      "Viejas Locas\n",
      "Los Tipitos\n",
      "La Renga\n",
      "Ciro y los Persas\n",
      "Los Piojos\n",
      "Las Pastillas del Abuelo\n",
      "Árbol\n",
      "Los Abuelos De La Nada\n",
      "['Indio Solari', 'Los Fundamentalistas del Aire Acondicionado']\n",
      "Los Caballeros De La Quema\n",
      "Las Pastillas del Abuelo\n",
      "Attaque 77\n",
      "The Strokes\n",
      "The Strokes\n",
      "The Strokes\n",
      "The Strokes\n"
     ]
    }
   ],
   "source": [
    "for i in range(0,len(songs['items'])):\n",
    "    if len(songs['items'][i]['track']['album']['artists'])>1:\n",
    "        artist = []\n",
    "        for a in range(0,len(songs['items'][i]['track']['album']['artists'])):\n",
    "            artist.append(songs['items'][i]['track']['album']['artists'][a]['name'])\n",
    "        print(artist)\n",
    "    else:\n",
    "        artist = songs['items'][i]['track']['album']['artists'][0]['name']\n",
    "        print(artist)"
   ]
  },
  {
   "cell_type": "code",
   "execution_count": 125,
   "metadata": {},
   "outputs": [
    {
     "data": {
      "text/plain": [
       "'The Strokes'"
      ]
     },
     "execution_count": 125,
     "metadata": {},
     "output_type": "execute_result"
    }
   ],
   "source": [
    "artist"
   ]
  },
  {
   "cell_type": "code",
   "execution_count": 76,
   "metadata": {},
   "outputs": [],
   "source": [
    "\n"
   ]
  },
  {
   "cell_type": "code",
   "execution_count": 74,
   "metadata": {},
   "outputs": [
    {
     "data": {
      "text/plain": [
       "{'type': 'playlist',\n",
       " 'href': 'https://api.spotify.com/v1/playlists/37i9dQZF1DZ06evO1wTz9u',\n",
       " 'external_urls': {'spotify': 'https://open.spotify.com/playlist/37i9dQZF1DZ06evO1wTz9u'},\n",
       " 'uri': 'spotify:playlist:37i9dQZF1DZ06evO1wTz9u'}"
      ]
     },
     "execution_count": 74,
     "metadata": {},
     "output_type": "execute_result"
    }
   ],
   "source": [
    "songs['items'][0]['context']"
   ]
  },
  {
   "cell_type": "code",
   "execution_count": 56,
   "metadata": {},
   "outputs": [
    {
     "data": {
      "text/plain": [
       "[{'external_urls': {'spotify': 'https://open.spotify.com/artist/2F9pvj94b52wGKs0OqiNi2'},\n",
       "  'href': 'https://api.spotify.com/v1/artists/2F9pvj94b52wGKs0OqiNi2',\n",
       "  'id': '2F9pvj94b52wGKs0OqiNi2',\n",
       "  'name': 'Babasónicos',\n",
       "  'type': 'artist',\n",
       "  'uri': 'spotify:artist:2F9pvj94b52wGKs0OqiNi2'}]"
      ]
     },
     "execution_count": 56,
     "metadata": {},
     "output_type": "execute_result"
    }
   ],
   "source": [
    "songs['items'][0]['track']['artists']"
   ]
  },
  {
   "cell_type": "code",
   "execution_count": 52,
   "metadata": {},
   "outputs": [],
   "source": [
    "columns=['id','name', 'type']\n",
    "\n",
    "songs_list = []\n",
    "for i in range(0,len(songs['items'])):\n",
    "    songs_list.append([\n",
    "        songs['items'][i]['track']['id'],\n",
    "        songs['items'][i]['track']['name'],\n",
    "        songs['items'][i]['track']['duration_ms'],\n",
    "        songs['items'][i]['track']['popularity'],\n",
    "        songs['items'][0]['track']['album']['id'],\n",
    "        songs['items'][i]['track']['type'],\n",
    "        songs['items'][i]['track']['track_number'],\n",
    "        ', '.join(songs['items'][i]['track']['available_markets']),\n",
    "        songs['items'][i]['track']['explicit'],\n",
    "        songs['items'][i]['track']['is_local']\n",
    "    ])\n",
    "\n",
    "dm_track = pd.DataFrame(songs_list, columns=columns)"
   ]
  },
  {
   "cell_type": "code",
   "execution_count": 53,
   "metadata": {},
   "outputs": [
    {
     "data": {
      "text/html": [
       "<div>\n",
       "<style scoped>\n",
       "    .dataframe tbody tr th:only-of-type {\n",
       "        vertical-align: middle;\n",
       "    }\n",
       "\n",
       "    .dataframe tbody tr th {\n",
       "        vertical-align: top;\n",
       "    }\n",
       "\n",
       "    .dataframe thead th {\n",
       "        text-align: right;\n",
       "    }\n",
       "</style>\n",
       "<table border=\"1\" class=\"dataframe\">\n",
       "  <thead>\n",
       "    <tr style=\"text-align: right;\">\n",
       "      <th></th>\n",
       "      <th>id</th>\n",
       "      <th>name</th>\n",
       "      <th>duration_ms</th>\n",
       "      <th>popularity</th>\n",
       "      <th>album_id</th>\n",
       "      <th>type</th>\n",
       "      <th>track_number</th>\n",
       "      <th>available_markets</th>\n",
       "      <th>explicit</th>\n",
       "      <th>is_local</th>\n",
       "    </tr>\n",
       "  </thead>\n",
       "  <tbody>\n",
       "    <tr>\n",
       "      <th>0</th>\n",
       "      <td>2jEjxOyKqMpkcThWl697hf</td>\n",
       "      <td>El Loco</td>\n",
       "      <td>185826</td>\n",
       "      <td>71</td>\n",
       "      <td>2VMsGuuC4CDcyZ8qp7njWh</td>\n",
       "      <td>track</td>\n",
       "      <td>6</td>\n",
       "      <td>AR, AU, AT, BE, BO, BR, BG, CA, CL, CO, CR, CY...</td>\n",
       "      <td>False</td>\n",
       "      <td>False</td>\n",
       "    </tr>\n",
       "    <tr>\n",
       "      <th>1</th>\n",
       "      <td>0dsViRiDTIuexAL42Nc1Kh</td>\n",
       "      <td>Irresponsables</td>\n",
       "      <td>156197</td>\n",
       "      <td>73</td>\n",
       "      <td>2VMsGuuC4CDcyZ8qp7njWh</td>\n",
       "      <td>track</td>\n",
       "      <td>1</td>\n",
       "      <td>AR, AU, AT, BE, BO, BR, BG, CA, CL, CO, CR, CY...</td>\n",
       "      <td>False</td>\n",
       "      <td>False</td>\n",
       "    </tr>\n",
       "    <tr>\n",
       "      <th>2</th>\n",
       "      <td>4ObkiTmpsSU31gqGhTb8SH</td>\n",
       "      <td>Balada Del Diablo y La Muerte</td>\n",
       "      <td>336360</td>\n",
       "      <td>66</td>\n",
       "      <td>2VMsGuuC4CDcyZ8qp7njWh</td>\n",
       "      <td>track</td>\n",
       "      <td>4</td>\n",
       "      <td>AR, AU, AT, BE, BO, BR, BG, CA, CL, CO, CR, CY...</td>\n",
       "      <td>False</td>\n",
       "      <td>False</td>\n",
       "    </tr>\n",
       "    <tr>\n",
       "      <th>3</th>\n",
       "      <td>2kB1rqoTaZ3j6ChtIWGurm</td>\n",
       "      <td>Me Gustas Mucho</td>\n",
       "      <td>199933</td>\n",
       "      <td>66</td>\n",
       "      <td>2VMsGuuC4CDcyZ8qp7njWh</td>\n",
       "      <td>track</td>\n",
       "      <td>3</td>\n",
       "      <td>AR, BO, BR, CL, CO, CR, CZ, DE, DO, EC, EE, EG...</td>\n",
       "      <td>False</td>\n",
       "      <td>False</td>\n",
       "    </tr>\n",
       "    <tr>\n",
       "      <th>4</th>\n",
       "      <td>3AjSUbPd7siXGOSlmXm9Nr</td>\n",
       "      <td>Homero</td>\n",
       "      <td>263653</td>\n",
       "      <td>63</td>\n",
       "      <td>2VMsGuuC4CDcyZ8qp7njWh</td>\n",
       "      <td>track</td>\n",
       "      <td>5</td>\n",
       "      <td>AR, BO, BR, CL, CO, CR, CZ, DE, DO, EC, EE, EG...</td>\n",
       "      <td>False</td>\n",
       "      <td>False</td>\n",
       "    </tr>\n",
       "  </tbody>\n",
       "</table>\n",
       "</div>"
      ],
      "text/plain": [
       "                       id                           name  duration_ms  \\\n",
       "0  2jEjxOyKqMpkcThWl697hf                        El Loco       185826   \n",
       "1  0dsViRiDTIuexAL42Nc1Kh                 Irresponsables       156197   \n",
       "2  4ObkiTmpsSU31gqGhTb8SH  Balada Del Diablo y La Muerte       336360   \n",
       "3  2kB1rqoTaZ3j6ChtIWGurm                Me Gustas Mucho       199933   \n",
       "4  3AjSUbPd7siXGOSlmXm9Nr                         Homero       263653   \n",
       "\n",
       "   popularity                album_id   type  track_number  \\\n",
       "0          71  2VMsGuuC4CDcyZ8qp7njWh  track             6   \n",
       "1          73  2VMsGuuC4CDcyZ8qp7njWh  track             1   \n",
       "2          66  2VMsGuuC4CDcyZ8qp7njWh  track             4   \n",
       "3          66  2VMsGuuC4CDcyZ8qp7njWh  track             3   \n",
       "4          63  2VMsGuuC4CDcyZ8qp7njWh  track             5   \n",
       "\n",
       "                                   available_markets  explicit  is_local  \n",
       "0  AR, AU, AT, BE, BO, BR, BG, CA, CL, CO, CR, CY...     False     False  \n",
       "1  AR, AU, AT, BE, BO, BR, BG, CA, CL, CO, CR, CY...     False     False  \n",
       "2  AR, AU, AT, BE, BO, BR, BG, CA, CL, CO, CR, CY...     False     False  \n",
       "3  AR, BO, BR, CL, CO, CR, CZ, DE, DO, EC, EE, EG...     False     False  \n",
       "4  AR, BO, BR, CL, CO, CR, CZ, DE, DO, EC, EE, EG...     False     False  "
      ]
     },
     "execution_count": 53,
     "metadata": {},
     "output_type": "execute_result"
    }
   ],
   "source": [
    "dm_track.head()"
   ]
  },
  {
   "cell_type": "code",
   "execution_count": 7,
   "metadata": {},
   "outputs": [
    {
     "data": {
      "text/plain": [
       "dict_keys(['track', 'played_at', 'context'])"
      ]
     },
     "execution_count": 7,
     "metadata": {},
     "output_type": "execute_result"
    }
   ],
   "source": [
    "# example\n",
    "songs['items'][0].keys()"
   ]
  },
  {
   "cell_type": "code",
   "execution_count": 36,
   "metadata": {},
   "outputs": [
    {
     "data": {
      "text/plain": [
       "'2023-11-14T22:40:41.042Z'"
      ]
     },
     "execution_count": 36,
     "metadata": {},
     "output_type": "execute_result"
    }
   ],
   "source": [
    "songs['items'][0]['played_at'] # timestamp"
   ]
  },
  {
   "cell_type": "code",
   "execution_count": 39,
   "metadata": {},
   "outputs": [
    {
     "data": {
      "text/plain": [
       "dict_keys(['album', 'artists', 'available_markets', 'disc_number', 'duration_ms', 'explicit', 'external_ids', 'external_urls', 'href', 'id', 'is_local', 'name', 'popularity', 'preview_url', 'track_number', 'type', 'uri'])"
      ]
     },
     "execution_count": 39,
     "metadata": {},
     "output_type": "execute_result"
    }
   ],
   "source": [
    "songs['items'][0]['track'].keys()"
   ]
  },
  {
   "cell_type": "code",
   "execution_count": 43,
   "metadata": {},
   "outputs": [
    {
     "data": {
      "text/plain": [
       "dict_keys(['album_type', 'artists', 'available_markets', 'external_urls', 'href', 'id', 'images', 'name', 'release_date', 'release_date_precision', 'total_tracks', 'type', 'uri'])"
      ]
     },
     "execution_count": 43,
     "metadata": {},
     "output_type": "execute_result"
    }
   ],
   "source": [
    "songs['items'][0]['track']['album'].keys()"
   ]
  },
  {
   "cell_type": "code",
   "execution_count": 45,
   "metadata": {},
   "outputs": [
    {
     "data": {
      "text/plain": [
       "[{'external_urls': {'spotify': 'https://open.spotify.com/artist/7c5qu1gNlg8jWDzzmlp89O'},\n",
       "  'href': 'https://api.spotify.com/v1/artists/7c5qu1gNlg8jWDzzmlp89O',\n",
       "  'id': '7c5qu1gNlg8jWDzzmlp89O',\n",
       "  'name': 'Kraak & Smaak',\n",
       "  'type': 'artist',\n",
       "  'uri': 'spotify:artist:7c5qu1gNlg8jWDzzmlp89O'},\n",
       " {'external_urls': {'spotify': 'https://open.spotify.com/artist/3oKRxpszQKUjjaHz388fVA'},\n",
       "  'href': 'https://api.spotify.com/v1/artists/3oKRxpszQKUjjaHz388fVA',\n",
       "  'id': '3oKRxpszQKUjjaHz388fVA',\n",
       "  'name': 'Parcels',\n",
       "  'type': 'artist',\n",
       "  'uri': 'spotify:artist:3oKRxpszQKUjjaHz388fVA'}]"
      ]
     },
     "execution_count": 45,
     "metadata": {},
     "output_type": "execute_result"
    }
   ],
   "source": [
    "songs['items'][0]['track']['artists'] # depends on the quantity of artists"
   ]
  }
 ],
 "metadata": {
  "kernelspec": {
   "display_name": "env",
   "language": "python",
   "name": "python3"
  },
  "language_info": {
   "codemirror_mode": {
    "name": "ipython",
    "version": 3
   },
   "file_extension": ".py",
   "mimetype": "text/x-python",
   "name": "python",
   "nbconvert_exporter": "python",
   "pygments_lexer": "ipython3",
   "version": "3.7.9"
  }
 },
 "nbformat": 4,
 "nbformat_minor": 2
}
