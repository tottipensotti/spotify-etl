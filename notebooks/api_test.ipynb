{
 "cells": [
  {
   "cell_type": "code",
   "execution_count": 1,
   "metadata": {},
   "outputs": [],
   "source": [
    "import os\n",
    "import base64\n",
    "import requests\n",
    "from dotenv import load_dotenv\n",
    "from datetime import datetime"
   ]
  },
  {
   "cell_type": "code",
   "execution_count": 2,
   "metadata": {},
   "outputs": [],
   "source": [
    "# Load environment variables from .env\n",
    "load_dotenv()\n",
    "\n",
    "def getAccessToken():\n",
    "    \"\"\"\n",
    "    Retrieves an access token for the Spotify API\n",
    "    using the user credentials from environment variables.\n",
    "\n",
    "    Returns:\n",
    "        str: The access token.\n",
    "    \"\"\"\n",
    "    \n",
    "    client_id = os.getenv(\"CLIENT_ID\")\n",
    "    client_secret = os.getenv(\"CLIENT_SECRET\")\n",
    "\n",
    "    auth_url = \"https://accounts.spotify.com/api/token\"\n",
    "    base64_auth = base64.b64encode(f'{client_id}:{client_secret}'.encode()).decode()\n",
    "\n",
    "    data = {\n",
    "        'grant_type': 'client_credentials'\n",
    "    }\n",
    "\n",
    "    headers = {\n",
    "        'Authorization': f'Basic {base64_auth}'\n",
    "    }\n",
    "\n",
    "    response = requests.post(auth_url, data=data, headers=headers)\n",
    "\n",
    "    if response.status_code == 200:\n",
    "        token_info = response.json()\n",
    "        access_token = token_info[\"access_token\"]\n",
    "        return access_token\n",
    "    else:\n",
    "        print(f\"Error: {response.status_code}\")\n",
    "        return None\n",
    "\n",
    "def getArtistData(artist_id, access_token):\n",
    "    \"\"\"\n",
    "    Retrieves data about a Spotify artist.\n",
    "\n",
    "    Args:\n",
    "        artist_id (str): The Spotify artist ID.\n",
    "        access_token (str): The access token for the Spotify API.\n",
    "\n",
    "    Returns:\n",
    "        dict: Information about the artist.\n",
    "    \"\"\"\n",
    "\n",
    "    artist_url = f\"https://api.spotify.com/v1/artists/{artist_id}\"\n",
    "    headers = {\n",
    "        'Authorization':f'Bearer {access_token}'\n",
    "    }\n",
    "\n",
    "    r = requests.get(artist_url, headers=headers)\n",
    "\n",
    "    if r.status_code == 200:\n",
    "        artist_info = r.json()\n",
    "        return artist_info\n",
    "    else:\n",
    "        print(f\"Error getting requested artist data: {r.status_code}\")\n",
    "        return None"
   ]
  },
  {
   "cell_type": "code",
   "execution_count": 3,
   "metadata": {},
   "outputs": [
    {
     "name": "stdout",
     "output_type": "stream",
     "text": [
      "Artist Name: The Beatles\n",
      "Followers: 26521543\n",
      "Popularity: 82\n",
      "Genres: beatlesque, british invasion, classic rock, merseybeat, psychedelic rock, rock\n"
     ]
    }
   ],
   "source": [
    "access_token = getAccessToken()\n",
    "\n",
    "if access_token:\n",
    "    artist_id = '3WrFJ7ztbogyGnTHbHJFl2'\n",
    "    artist_info = getArtistData(artist_id, access_token)\n",
    "\n",
    "    if artist_info:\n",
    "        print(f'Artist Name: {artist_info[\"name\"]}')\n",
    "        print(f'Followers: {artist_info[\"followers\"][\"total\"]}')\n",
    "        print(f'Popularity: {artist_info[\"popularity\"]}')\n",
    "        print(f'Genres: {\", \".join(artist_info[\"genres\"])}')"
   ]
  }
 ],
 "metadata": {
  "kernelspec": {
   "display_name": "env",
   "language": "python",
   "name": "python3"
  },
  "language_info": {
   "codemirror_mode": {
    "name": "ipython",
    "version": 3
   },
   "file_extension": ".py",
   "mimetype": "text/x-python",
   "name": "python",
   "nbconvert_exporter": "python",
   "pygments_lexer": "ipython3",
   "version": "3.7.9"
  }
 },
 "nbformat": 4,
 "nbformat_minor": 2
}
